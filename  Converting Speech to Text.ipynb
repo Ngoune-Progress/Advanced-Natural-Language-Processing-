{
 "cells": [
  {
   "cell_type": "markdown",
   "id": "d5fdd62a",
   "metadata": {},
   "source": [
    "## Recipe 4-9. Converting Speech to Text"
   ]
  },
  {
   "cell_type": "code",
   "execution_count": 1,
   "id": "efc624d9",
   "metadata": {},
   "outputs": [
    {
     "name": "stdout",
     "output_type": "stream",
     "text": [
      "\u001b[33mWARNING: Retrying (Retry(total=4, connect=None, read=None, redirect=None, status=None)) after connection broken by 'NewConnectionError('<pip._vendor.urllib3.connection.HTTPSConnection object at 0x7fc288939290>: Failed to establish a new connection: [Errno 8] nodename nor servname provided, or not known')': /simple/speechrecognition/\u001b[0m\u001b[33m\n",
      "\u001b[0m\u001b[33mWARNING: Retrying (Retry(total=3, connect=None, read=None, redirect=None, status=None)) after connection broken by 'NewConnectionError('<pip._vendor.urllib3.connection.HTTPSConnection object at 0x7fc288939790>: Failed to establish a new connection: [Errno 8] nodename nor servname provided, or not known')': /simple/speechrecognition/\u001b[0m\u001b[33m\n",
      "\u001b[0m\u001b[33mWARNING: Retrying (Retry(total=2, connect=None, read=None, redirect=None, status=None)) after connection broken by 'NewConnectionError('<pip._vendor.urllib3.connection.HTTPSConnection object at 0x7fc288939910>: Failed to establish a new connection: [Errno 8] nodename nor servname provided, or not known')': /simple/speechrecognition/\u001b[0m\u001b[33m\n",
      "\u001b[0m\u001b[33mWARNING: Retrying (Retry(total=1, connect=None, read=None, redirect=None, status=None)) after connection broken by 'NewConnectionError('<pip._vendor.urllib3.connection.HTTPSConnection object at 0x7fc288939c50>: Failed to establish a new connection: [Errno 8] nodename nor servname provided, or not known')': /simple/speechrecognition/\u001b[0m\u001b[33m\n",
      "\u001b[0m\u001b[33mWARNING: Retrying (Retry(total=0, connect=None, read=None, redirect=None, status=None)) after connection broken by 'NewConnectionError('<pip._vendor.urllib3.connection.HTTPSConnection object at 0x7fc288951150>: Failed to establish a new connection: [Errno 8] nodename nor servname provided, or not known')': /simple/speechrecognition/\u001b[0m\u001b[33m\n",
      "\u001b[0mCollecting SpeechRecognition\n",
      "  Downloading SpeechRecognition-3.9.0-py2.py3-none-any.whl (32.8 MB)\n",
      "\u001b[2K     \u001b[90m━━━━━━━━━━━━━━━━━━━━━━━━━━━━━━━━━━━━━━━━\u001b[0m \u001b[32m32.8/32.8 MB\u001b[0m \u001b[31m1.1 MB/s\u001b[0m eta \u001b[36m0:00:00\u001b[0m00:01\u001b[0m00:01\u001b[0m\n",
      "\u001b[?25hRequirement already satisfied: requests>=2.26.0 in /Users/ngounepeetprogress/opt/anaconda3/envs/deepL/lib/python3.7/site-packages (from SpeechRecognition) (2.28.2)\n",
      "Requirement already satisfied: urllib3<1.27,>=1.21.1 in /Users/ngounepeetprogress/opt/anaconda3/envs/deepL/lib/python3.7/site-packages (from requests>=2.26.0->SpeechRecognition) (1.26.14)\n",
      "Requirement already satisfied: certifi>=2017.4.17 in /Users/ngounepeetprogress/opt/anaconda3/envs/deepL/lib/python3.7/site-packages (from requests>=2.26.0->SpeechRecognition) (2022.12.7)\n",
      "Requirement already satisfied: idna<4,>=2.5 in /Users/ngounepeetprogress/opt/anaconda3/envs/deepL/lib/python3.7/site-packages (from requests>=2.26.0->SpeechRecognition) (3.4)\n",
      "Requirement already satisfied: charset-normalizer<4,>=2 in /Users/ngounepeetprogress/opt/anaconda3/envs/deepL/lib/python3.7/site-packages (from requests>=2.26.0->SpeechRecognition) (2.0.4)\n",
      "Installing collected packages: SpeechRecognition\n",
      "Successfully installed SpeechRecognition-3.9.0\n",
      "Collecting PyAudio\n",
      "  Downloading PyAudio-0.2.13.tar.gz (46 kB)\n",
      "\u001b[2K     \u001b[90m━━━━━━━━━━━━━━━━━━━━━━━━━━━━━━━━━━━━━━━\u001b[0m \u001b[32m46.8/46.8 kB\u001b[0m \u001b[31m177.0 kB/s\u001b[0m eta \u001b[36m0:00:00\u001b[0ma \u001b[36m0:00:01\u001b[0m\n",
      "\u001b[?25h  Installing build dependencies ... \u001b[?25ldone\n",
      "\u001b[?25h  Getting requirements to build wheel ... \u001b[?25ldone\n",
      "\u001b[?25h  Preparing metadata (pyproject.toml) ... \u001b[?25ldone\n",
      "\u001b[?25hBuilding wheels for collected packages: PyAudio\n",
      "  Building wheel for PyAudio (pyproject.toml) ... \u001b[?25ldone\n",
      "\u001b[?25h  Created wheel for PyAudio: filename=PyAudio-0.2.13-cp37-cp37m-macosx_10_9_x86_64.whl size=25657 sha256=c261850bd8a7d423f7bc07fedcc3166557f15169cf4d5556c0281c40bcc31f0f\n",
      "  Stored in directory: /Users/ngounepeetprogress/Library/Caches/pip/wheels/67/6e/5f/48c625794f89a2ef2cac445f2f5f4cfbdece2cdd64b510c977\n",
      "Successfully built PyAudio\n",
      "Installing collected packages: PyAudio\n",
      "Successfully installed PyAudio-0.2.13\n"
     ]
    }
   ],
   "source": [
    "!pip install SpeechRecognition\n",
    "!pip install PyAudio"
   ]
  },
  {
   "cell_type": "code",
   "execution_count": 2,
   "id": "ff9e462c",
   "metadata": {},
   "outputs": [],
   "source": [
    "import speech_recognition as sr\n"
   ]
  },
  {
   "cell_type": "code",
   "execution_count": 18,
   "id": "545d1c8b",
   "metadata": {},
   "outputs": [
    {
     "name": "stdout",
     "output_type": "stream",
     "text": [
      "Please say something\n",
      "Time over thanks\n"
     ]
    }
   ],
   "source": [
    "r = sr.Recognizer()\n",
    "with sr.Microphone() as source:\n",
    "    print(\"Please say something\")\n",
    "    audio = r.listen(source)\n",
    "    print(\"Time over thanks\")\n"
   ]
  },
  {
   "cell_type": "code",
   "execution_count": 19,
   "id": "3a078a19",
   "metadata": {},
   "outputs": [
    {
     "name": "stdout",
     "output_type": "stream",
     "text": [
      "result2:\n",
      "{   'alternative': [   {   'confidence': 0.498808,\n",
      "                           'transcript': \"I'm machine learning engineer\"},\n",
      "                       {'transcript': 'machine learning engineer'},\n",
      "                       {'transcript': \"I'm machine-learning engineer\"},\n",
      "                       {'transcript': 'a machine learning engineer'},\n",
      "                       {'transcript': 'a machine-learning engineer'}],\n",
      "    'final': True}\n",
      "I think you said: I'm machine learning engineer\n"
     ]
    }
   ],
   "source": [
    "try:\n",
    "    print(\"I think you said: \"+r.recognize_google(audio));\n",
    "except Exception as e:\n",
    "    print(e)"
   ]
  },
  {
   "cell_type": "code",
   "execution_count": null,
   "id": "af6244cc",
   "metadata": {},
   "outputs": [
    {
     "name": "stdout",
     "output_type": "stream",
     "text": [
      "You can talk\n"
     ]
    }
   ],
   "source": [
    "## i try myself\n",
    "\n",
    "import speech_recognition as srr\n",
    "\n",
    "rr = srr.Recognizer()\n",
    "with srr.Microphone() as source:\n",
    "    print(\"You can talk\")\n",
    "    audio = rr.listen(source)\n",
    "    print(\"Its okay\")\n",
    "try:\n",
    "    print(\"You said \"+rr.recognize_google(audio),language=\"Fr\")\n",
    "except Exception as e:\n",
    "    print(e)"
   ]
  },
  {
   "cell_type": "code",
   "execution_count": null,
   "id": "8ccd8380",
   "metadata": {},
   "outputs": [],
   "source": []
  }
 ],
 "metadata": {
  "kernelspec": {
   "display_name": "Python 3 (ipykernel)",
   "language": "python",
   "name": "python3"
  },
  "language_info": {
   "codemirror_mode": {
    "name": "ipython",
    "version": 3
   },
   "file_extension": ".py",
   "mimetype": "text/x-python",
   "name": "python",
   "nbconvert_exporter": "python",
   "pygments_lexer": "ipython3",
   "version": "3.7.16"
  }
 },
 "nbformat": 4,
 "nbformat_minor": 5
}
