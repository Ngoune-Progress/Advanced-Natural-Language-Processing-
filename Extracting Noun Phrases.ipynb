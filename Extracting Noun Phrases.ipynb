{
 "cells": [
  {
   "cell_type": "markdown",
   "id": "a5a5e80d",
   "metadata": {},
   "source": [
    "# Recipe 1. Noun phrase extraction"
   ]
  },
  {
   "cell_type": "code",
   "execution_count": 1,
   "id": "713dedc8",
   "metadata": {},
   "outputs": [],
   "source": [
    "import nltk\n",
    "from textblob import TextBlob"
   ]
  },
  {
   "cell_type": "code",
   "execution_count": 9,
   "id": "a601d944",
   "metadata": {},
   "outputs": [
    {
     "name": "stdout",
     "output_type": "stream",
     "text": [
      "john\n",
      "natural language processing\n"
     ]
    }
   ],
   "source": [
    "#Extract noun\n",
    "blob = TextBlob(\"John is learning natural language processing\")\n",
    "for n in blob.noun_phrases:\n",
    "    print(n)"
   ]
  },
  {
   "cell_type": "code",
   "execution_count": 12,
   "id": "12ce34d3",
   "metadata": {},
   "outputs": [
    {
     "name": "stdout",
     "output_type": "stream",
     "text": [
      "john\n",
      "natural language processing\n",
      "peet\n",
      "drake\n"
     ]
    }
   ],
   "source": [
    "text = [\"John is learning natural language processing\",\"Peet and Progress were going to school\",\"Drake is a musician\"]\n",
    "for i in text:\n",
    "    nouns = TextBlob(i)\n",
    "    for n in nouns.noun_phrases:\n",
    "        print(n)"
   ]
  },
  {
   "cell_type": "code",
   "execution_count": null,
   "id": "8f22a016",
   "metadata": {},
   "outputs": [],
   "source": []
  }
 ],
 "metadata": {
  "kernelspec": {
   "display_name": "Python 3 (ipykernel)",
   "language": "python",
   "name": "python3"
  },
  "language_info": {
   "codemirror_mode": {
    "name": "ipython",
    "version": 3
   },
   "file_extension": ".py",
   "mimetype": "text/x-python",
   "name": "python",
   "nbconvert_exporter": "python",
   "pygments_lexer": "ipython3",
   "version": "3.7.16"
  }
 },
 "nbformat": 4,
 "nbformat_minor": 5
}
