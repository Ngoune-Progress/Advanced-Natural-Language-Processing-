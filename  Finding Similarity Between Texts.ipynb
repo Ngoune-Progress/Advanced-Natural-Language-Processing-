{
 "cells": [
  {
   "cell_type": "markdown",
   "id": "6fd686c6",
   "metadata": {},
   "source": [
    "## Recipe 4-2. Finding Similarity Between Texts"
   ]
  },
  {
   "cell_type": "code",
   "execution_count": 1,
   "id": "3caf0635",
   "metadata": {},
   "outputs": [],
   "source": [
    "documents = (\n",
    "\"I like NLP\",\n",
    "\"I am exploring NLP\",\n",
    "\"I am a beginner in NLP\",\n",
    "\"I want to learn NLP\",\n",
    "\"I like advanced NLP\"\n",
    ")"
   ]
  },
  {
   "cell_type": "code",
   "execution_count": 4,
   "id": "7feb5605",
   "metadata": {},
   "outputs": [],
   "source": [
    "from sklearn.feature_extraction.text import TfidfVectorizer\n",
    "from sklearn.metrics.pairwise import cosine_similarity\n",
    "\n",
    "tfidf_vectorizer = TfidfVectorizer()\n",
    "tfidf_matrix = tfidf_vectorizer.fit_transform(documents)"
   ]
  },
  {
   "cell_type": "code",
   "execution_count": 5,
   "id": "6e714377",
   "metadata": {},
   "outputs": [
    {
     "data": {
      "text/plain": [
       "(5, 10)"
      ]
     },
     "execution_count": 5,
     "metadata": {},
     "output_type": "execute_result"
    }
   ],
   "source": [
    "tfidf_matrix.shape"
   ]
  },
  {
   "cell_type": "code",
   "execution_count": 8,
   "id": "74b3db5e",
   "metadata": {},
   "outputs": [
    {
     "data": {
      "text/plain": [
       "array([[0.        , 0.        , 0.        , 0.        , 0.        ,\n",
       "        0.        , 0.861037  , 0.50854232, 0.        , 0.        ],\n",
       "       [0.        , 0.58873218, 0.        , 0.72971837, 0.        ,\n",
       "        0.        , 0.        , 0.34771471, 0.        , 0.        ],\n",
       "       [0.        , 0.4755751 , 0.58946308, 0.        , 0.58946308,\n",
       "        0.        , 0.        , 0.28088232, 0.        , 0.        ],\n",
       "       [0.        , 0.        , 0.        , 0.        , 0.        ,\n",
       "        0.55666851, 0.        , 0.26525553, 0.55666851, 0.55666851],\n",
       "       [0.72971837, 0.        , 0.        , 0.        , 0.        ,\n",
       "        0.        , 0.58873218, 0.34771471, 0.        , 0.        ]])"
      ]
     },
     "execution_count": 8,
     "metadata": {},
     "output_type": "execute_result"
    }
   ],
   "source": [
    "tfidf_matrix.toarray()"
   ]
  },
  {
   "cell_type": "code",
   "execution_count": 9,
   "id": "efc10b1a",
   "metadata": {},
   "outputs": [
    {
     "data": {
      "text/plain": [
       "array([[1.        , 0.17682765, 0.14284054, 0.13489366, 0.68374784],\n",
       "       [0.17682765, 1.        , 0.37765328, 0.09223325, 0.12090552],\n",
       "       [0.14284054, 0.37765328, 1.        , 0.07450559, 0.09766691],\n",
       "       [0.13489366, 0.09223325, 0.07450559, 1.        , 0.09223325],\n",
       "       [0.68374784, 0.12090552, 0.09766691, 0.09223325, 1.        ]])"
      ]
     },
     "execution_count": 9,
     "metadata": {},
     "output_type": "execute_result"
    }
   ],
   "source": [
    "cosine_similarity(tfidf_matrix)"
   ]
  },
  {
   "cell_type": "code",
   "execution_count": null,
   "id": "b4af1414",
   "metadata": {},
   "outputs": [],
   "source": []
  }
 ],
 "metadata": {
  "kernelspec": {
   "display_name": "Python 3 (ipykernel)",
   "language": "python",
   "name": "python3"
  },
  "language_info": {
   "codemirror_mode": {
    "name": "ipython",
    "version": 3
   },
   "file_extension": ".py",
   "mimetype": "text/x-python",
   "name": "python",
   "nbconvert_exporter": "python",
   "pygments_lexer": "ipython3",
   "version": "3.7.16"
  }
 },
 "nbformat": 4,
 "nbformat_minor": 5
}
